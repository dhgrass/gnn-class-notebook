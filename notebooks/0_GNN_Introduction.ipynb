{
  "cells": [
    {
      "cell_type": "markdown",
      "metadata": {
        "id": "Zaf1NTr-ipEa"
      },
      "source": [
        "https://www.unav.edu/web/instituto-de-ciencia-de-los-datos-e-inteligencia-artificial<br>\n",
        "\n",
        "Autor: Darian Horacio Grass Boada"
      ]
    },
    {
      "cell_type": "markdown",
      "metadata": {
        "id": "I0gNUrdEipEc"
      },
      "source": [
        "### ¿Qué es una Red Convolutiva de Grafos?\n",
        "\n",
        "- Una arquitectura de red neuronal muy potente para el aprendizaje automático en grafos.\n",
        "- Veamos un ejemplo básico y entendamos el funamento matemático subyacente con un ejemplo simple\n"
      ]
    },
    {
      "cell_type": "markdown",
      "metadata": {
        "id": "zy2ESMMRipEd"
      },
      "source": [
        "Formalmente, una red convolutiva de grafos (GCN) es una red neuronal que opera en grafos. Dado un grafo $G = (V, E)$, una GCN toma como entrada\n",
        "- una matriz de características de entrada $N \\times F^{0}$, $X$, donde $N$ es el número de nodos y $F^{0}$ es el número de características de entrada para cada nodo, y\n",
        "- una representación matricial $N \\times N$ de la estructura del grafo, como la matriz de adyacencia $A$ de $G$"
      ]
    },
    {
      "cell_type": "markdown",
      "metadata": {
        "id": "JEps3OX4ipEd"
      },
      "source": [
        "Por lo tanto, una capa oculta en la GCN se puede escribir como $H^{i} = f(H^{i-1},A)$ donde $H^{0} = X$ y $f$ es una regla de propagación\n",
        "- Cada capa $H^{i}$ corresponde a una matriz de características $N \\times F^{i}$ donde cada fila es una representación de características de un nodo.\n",
        "- En cada capa, estas características se agregan para formar las características de la siguiente capa utilizando la regla de propagación $f$."
      ]
    },
    {
      "cell_type": "markdown",
      "metadata": {
        "id": "ckGMLCQzipEd"
      },
      "source": [
        "### Una Regla de Propagación Simple\n",
        "\n",
        "Una de las reglas de propagación más simples posibles es:\n",
        "\n",
        "$$f(H^{i}, A) = \\sigma(AH^{i}W^{i}) $$\n",
        "\n",
        "donde $W^{i}$ es la matriz de pesos para la capa $i$ y $\\sigma$ es una función de activación no lineal como la función ReLU. La matriz de pesos tiene dimensiones $F^{i} \\times F^{i+1}$; en otras palabras, el tamaño de la segunda dimensión de la matriz de pesos determina el número de características en la siguiente capa.\n"
      ]
    },
    {
      "cell_type": "markdown",
      "metadata": {
        "id": "qN2GzJ1dipEe"
      },
      "source": [
        "##### representación de matriz de adyacencia numpy"
      ]
    },
    {
      "cell_type": "code",
      "execution_count": 1,
      "metadata": {
        "colab": {
          "base_uri": "https://localhost:8080/"
        },
        "id": "jUNzxAK-ipEf",
        "outputId": "6fb1748c-f5ec-4319-8087-a195a05c8935"
      },
      "outputs": [
        {
          "data": {
            "text/plain": [
              "matrix([[0., 1., 0., 0.],\n",
              "        [0., 0., 1., 1.],\n",
              "        [0., 1., 0., 0.],\n",
              "        [1., 0., 1., 0.]])"
            ]
          },
          "execution_count": 1,
          "metadata": {},
          "output_type": "execute_result"
        }
      ],
      "source": [
        "import numpy as np\n",
        "A = np.matrix([\n",
        "    [0, 1, 0, 0],\n",
        "    [0, 0, 1, 1],\n",
        "    [0, 1, 0, 0],\n",
        "    [1, 0, 1, 0]],\n",
        "    dtype=float\n",
        ")\n",
        "A"
      ]
    },
    {
      "cell_type": "code",
      "execution_count": 2,
      "metadata": {},
      "outputs": [
        {
          "name": "stdout",
          "output_type": "stream",
          "text": [
            "El grafo es dirigido.\n"
          ]
        }
      ],
      "source": [
        "# Comprobar si la matriz es simétrica\n",
        "def es_dirigido(A):\n",
        "    return not np.array_equal(A, A.T)\n",
        "\n",
        "if es_dirigido(A):\n",
        "    print(\"El grafo es dirigido.\")\n",
        "else:\n",
        "    print(\"El grafo no es dirigido.\")"
      ]
    },
    {
      "cell_type": "markdown",
      "metadata": {
        "id": "QUMKC2OeipEg"
      },
      "source": [
        "##### ¡Necesitamos características! Generamos 2 características enteras para cada nodo basadas en su índice."
      ]
    },
    {
      "cell_type": "code",
      "execution_count": 3,
      "metadata": {
        "colab": {
          "base_uri": "https://localhost:8080/"
        },
        "id": "FQ3fx7tqipEh",
        "outputId": "3185b4f1-f2c3-4b3c-ba09-178e78952122"
      },
      "outputs": [
        {
          "data": {
            "text/plain": [
              "matrix([[ 0.,  0.],\n",
              "        [ 1., -1.],\n",
              "        [ 2., -2.],\n",
              "        [ 3., -3.]])"
            ]
          },
          "execution_count": 3,
          "metadata": {},
          "output_type": "execute_result"
        }
      ],
      "source": [
        "X = np.matrix([[i, -i] for i in range(A.shape[0])], dtype=float)\n",
        "X"
      ]
    },
    {
      "cell_type": "markdown",
      "metadata": {
        "id": "zqpD2kqkipEh"
      },
      "source": [
        "##### Aplicando la Regla de Propagación"
      ]
    },
    {
      "cell_type": "code",
      "execution_count": 4,
      "metadata": {
        "colab": {
          "base_uri": "https://localhost:8080/"
        },
        "id": "bMQAoBSTipEi",
        "outputId": "fb1c0d59-5e54-4e5a-afc1-5d555bad4e52"
      },
      "outputs": [
        {
          "data": {
            "text/plain": [
              "matrix([[ 1., -1.],\n",
              "        [ 5., -5.],\n",
              "        [ 1., -1.],\n",
              "        [ 2., -2.]])"
            ]
          },
          "execution_count": 4,
          "metadata": {},
          "output_type": "execute_result"
        }
      ],
      "source": [
        "A*X"
      ]
    },
    {
      "cell_type": "markdown",
      "metadata": {
        "id": "vkmPawCUipEj"
      },
      "source": [
        "- ¿Qué pasó? ¡La representación de cada nodo (cada fila) es ahora una suma de las características de sus vecinos! En otras palabras, la capa convolutiva del grafo representa cada nodo como un agregado de su vecindario.\n",
        "\n",
        "- Te animo a que compruebes el cálculo por ti mismo."
      ]
    },
    {
      "cell_type": "markdown",
      "metadata": {
        "id": "FBZ22VBOipEj"
      },
      "source": [
        "### Problemas ###\n",
        "1. ¡La representación agregada de un nodo no incluye sus propias características!\n",
        "2. Los nodos con grados grandes tendrán valores grandes en su representación de características, mientras que los nodos con grados pequeños tendrán valores pequeños."
      ]
    },
    {
      "cell_type": "markdown",
      "metadata": {
        "id": "FH44xtwiipEj"
      },
      "source": [
        "### Problema 1: solución ###\n",
        "##### Añadiendo Bucles Propios: En la práctica, esto se hace añadiendo la matriz identidad $I$ a la matriz de adyacencia $A$ antes de aplicar la regla de propagación."
      ]
    },
    {
      "cell_type": "code",
      "execution_count": 5,
      "metadata": {
        "colab": {
          "base_uri": "https://localhost:8080/"
        },
        "id": "YJxnT-bQipEj",
        "outputId": "70ce3ca8-8e57-4601-a983-1ba09340f83f"
      },
      "outputs": [
        {
          "data": {
            "text/plain": [
              "matrix([[1., 0., 0., 0.],\n",
              "        [0., 1., 0., 0.],\n",
              "        [0., 0., 1., 0.],\n",
              "        [0., 0., 0., 1.]])"
            ]
          },
          "execution_count": 5,
          "metadata": {},
          "output_type": "execute_result"
        }
      ],
      "source": [
        "I = np.matrix(np.eye(A.shape[0]))\n",
        "I"
      ]
    },
    {
      "cell_type": "code",
      "execution_count": 6,
      "metadata": {
        "colab": {
          "base_uri": "https://localhost:8080/"
        },
        "id": "wGRlZhRPipEk",
        "outputId": "17e4dcbd-dc4f-4edc-c282-474b6b026d4e"
      },
      "outputs": [
        {
          "data": {
            "text/plain": [
              "matrix([[ 1., -1.],\n",
              "        [ 6., -6.],\n",
              "        [ 3., -3.],\n",
              "        [ 5., -5.]])"
            ]
          },
          "execution_count": 6,
          "metadata": {},
          "output_type": "execute_result"
        }
      ],
      "source": [
        "A_hat = A + I\n",
        "A_hat * X"
      ]
    },
    {
      "cell_type": "code",
      "execution_count": 7,
      "metadata": {
        "colab": {
          "base_uri": "https://localhost:8080/"
        },
        "id": "mywdt1SxipEk",
        "outputId": "f4c85176-eb19-4c17-e941-2ec6d14d04fa"
      },
      "outputs": [
        {
          "data": {
            "text/plain": [
              "matrix([[ 1., -1.],\n",
              "        [ 5., -5.],\n",
              "        [ 1., -1.],\n",
              "        [ 2., -2.]])"
            ]
          },
          "execution_count": 7,
          "metadata": {},
          "output_type": "execute_result"
        }
      ],
      "source": [
        "A*X"
      ]
    },
    {
      "cell_type": "markdown",
      "metadata": {
        "id": "nMH70QtOipEk"
      },
      "source": [
        "- ¿Qué pasó con $v_{0}$?"
      ]
    },
    {
      "cell_type": "markdown",
      "metadata": {
        "id": "D-OXsvMDipEk"
      },
      "source": [
        "### Problema 2: solución ###\n",
        "##### Las representaciones de características pueden ser normalizadas por el grado del nodo transformando la matriz de adyacencia $A$ multiplicándola con la matriz de grado inversa $D$\n",
        "$f(X,A)=D^{-1}AX$"
      ]
    },
    {
      "cell_type": "markdown",
      "metadata": {
        "id": "Z_IL-LlEipEl"
      },
      "source": [
        "##### Primero calculamos la matriz de grados."
      ]
    },
    {
      "cell_type": "code",
      "execution_count": 8,
      "metadata": {
        "colab": {
          "base_uri": "https://localhost:8080/"
        },
        "id": "5sU6HPNxipEl",
        "outputId": "f22bfffa-9e99-475c-acf1-244935e2de03"
      },
      "outputs": [
        {
          "data": {
            "text/plain": [
              "matrix([[1., 0., 0., 0.],\n",
              "        [0., 2., 0., 0.],\n",
              "        [0., 0., 2., 0.],\n",
              "        [0., 0., 0., 1.]])"
            ]
          },
          "execution_count": 8,
          "metadata": {},
          "output_type": "execute_result"
        }
      ],
      "source": [
        "D = np.array(np.sum(A, axis=0))[0]\n",
        "D = np.matrix(np.diag(D))\n",
        "D"
      ]
    },
    {
      "cell_type": "code",
      "execution_count": 9,
      "metadata": {
        "colab": {
          "base_uri": "https://localhost:8080/"
        },
        "id": "LwolRdeKipEl",
        "outputId": "ebbffd2b-38f6-4edb-bda9-3347786475e0"
      },
      "outputs": [
        {
          "data": {
            "text/plain": [
              "matrix([[0., 1., 0., 0.],\n",
              "        [0., 0., 1., 1.],\n",
              "        [0., 1., 0., 0.],\n",
              "        [1., 0., 1., 0.]])"
            ]
          },
          "execution_count": 9,
          "metadata": {},
          "output_type": "execute_result"
        }
      ],
      "source": [
        "A"
      ]
    },
    {
      "cell_type": "markdown",
      "metadata": {
        "id": "n4n6CSrlipEl"
      },
      "source": [
        "##### veamos qué le sucede a la matriz de adyacencia después de transformarla."
      ]
    },
    {
      "cell_type": "code",
      "execution_count": 10,
      "metadata": {
        "colab": {
          "base_uri": "https://localhost:8080/"
        },
        "id": "qcNHaxiWipEl",
        "outputId": "d1945632-9e45-4b6c-b45d-afcc78f860d4"
      },
      "outputs": [
        {
          "data": {
            "text/plain": [
              "matrix([[0. , 1. , 0. , 0. ],\n",
              "        [0. , 0. , 0.5, 0.5],\n",
              "        [0. , 0.5, 0. , 0. ],\n",
              "        [1. , 0. , 1. , 0. ]])"
            ]
          },
          "execution_count": 10,
          "metadata": {},
          "output_type": "execute_result"
        }
      ],
      "source": [
        "D**-1 * A"
      ]
    },
    {
      "cell_type": "markdown",
      "metadata": {
        "id": "6ZmstBybipEl"
      },
      "source": [
        "- Observa que los valores en cada fila de la matriz de adyacencia han sido divididos por el grado del nodo correspondiente a la fila"
      ]
    },
    {
      "cell_type": "markdown",
      "metadata": {
        "id": "hUg14sXBipEm"
      },
      "source": [
        "##### Aplicamos la regla de propagación con la matriz de adyacencia transformada"
      ]
    },
    {
      "cell_type": "code",
      "execution_count": 11,
      "metadata": {
        "colab": {
          "base_uri": "https://localhost:8080/"
        },
        "id": "RDFa0uuIipEm",
        "outputId": "ab9185d1-3aa5-4268-9e7f-04476310c754"
      },
      "outputs": [
        {
          "data": {
            "text/plain": [
              "matrix([[ 1. , -1. ],\n",
              "        [ 2.5, -2.5],\n",
              "        [ 0.5, -0.5],\n",
              "        [ 2. , -2. ]])"
            ]
          },
          "execution_count": 11,
          "metadata": {},
          "output_type": "execute_result"
        }
      ],
      "source": [
        "D**-1 * A * X"
      ]
    },
    {
      "cell_type": "markdown",
      "metadata": {
        "id": "qNjIgOzVipEm"
      },
      "source": [
        "- representaciones de nodos correspondientes a la media de las características de los nodos vecinos.\n",
        "- esto se debe a que los pesos en la matriz de adyacencia (transformada) corresponden a pesos en una suma ponderada de las características de los nodos vecinos."
      ]
    },
    {
      "cell_type": "markdown",
      "metadata": {
        "id": "z6NTXV1oipEm"
      },
      "source": [
        "### Juntándolo Todo"
      ]
    },
    {
      "cell_type": "markdown",
      "metadata": {
        "id": "heYLw5uOipEm"
      },
      "source": [
        "> Ahora combinamos los consejos de bucle propio y normalización. Además, reintroduciremos los pesos y la función de activación"
      ]
    },
    {
      "cell_type": "code",
      "execution_count": 12,
      "metadata": {
        "colab": {
          "base_uri": "https://localhost:8080/"
        },
        "id": "UMkwGbd1ipEm",
        "outputId": "b44774cb-0815-4e8e-ef99-4cd29bf4fec8"
      },
      "outputs": [
        {
          "data": {
            "text/plain": [
              "matrix([[2., 0., 0., 0.],\n",
              "        [0., 3., 0., 0.],\n",
              "        [0., 0., 3., 0.],\n",
              "        [0., 0., 0., 2.]])"
            ]
          },
          "execution_count": 12,
          "metadata": {},
          "output_type": "execute_result"
        }
      ],
      "source": [
        "D_hat = np.array(np.sum(A_hat, axis=0))[0]\n",
        "D_hat = np.matrix(np.diag(D_hat))\n",
        "D_hat"
      ]
    },
    {
      "cell_type": "markdown",
      "metadata": {
        "id": "_ZQU5qdLipEm"
      },
      "source": [
        "- Añadiendo de nuevo los Pesos\n",
        "- La primera tarea es aplicar los pesos.\n",
        "- Nota que aquí D_hat es la matriz de grados de A_hat = A + I, es decir, la matriz de grados de A con bucles propios forzados."
      ]
    },
    {
      "cell_type": "code",
      "execution_count": 13,
      "metadata": {
        "colab": {
          "base_uri": "https://localhost:8080/"
        },
        "id": "klZilKEeipEn",
        "outputId": "3a752f18-8819-4c3c-b9d6-8f01a524abe9"
      },
      "outputs": [
        {
          "data": {
            "text/plain": [
              "matrix([[ 1., -1.],\n",
              "        [ 4., -4.],\n",
              "        [ 2., -2.],\n",
              "        [ 5., -5.]])"
            ]
          },
          "execution_count": 13,
          "metadata": {},
          "output_type": "execute_result"
        }
      ],
      "source": [
        "W = np.matrix([[1, -1], [-1, 1]])\n",
        "D_hat**-1 * A_hat * X * W"
      ]
    },
    {
      "cell_type": "markdown",
      "metadata": {
        "id": "RXqDykJPipEn"
      },
      "source": [
        "> si queremos reducir la dimensionalidad de las representaciones de características de salida, podemos reducir el tamaño de la matriz de pesos $W$"
      ]
    },
    {
      "cell_type": "code",
      "execution_count": 14,
      "metadata": {
        "colab": {
          "base_uri": "https://localhost:8080/"
        },
        "id": "rHbfZDJEipEn",
        "outputId": "142b48fb-7a62-4fc9-a6d4-f705ec1def8b"
      },
      "outputs": [
        {
          "data": {
            "text/plain": [
              "matrix([[1.],\n",
              "        [4.],\n",
              "        [2.],\n",
              "        [5.]])"
            ]
          },
          "execution_count": 14,
          "metadata": {},
          "output_type": "execute_result"
        }
      ],
      "source": [
        "W = np.matrix([[1], [-1]])\n",
        "D_hat**-1 * A_hat * X * W"
      ]
    },
    {
      "cell_type": "code",
      "execution_count": 15,
      "metadata": {
        "id": "ux8SQZEuipEo"
      },
      "outputs": [],
      "source": [
        "def relu(x):\n",
        "    return (np.maximum(0.0, x))\n"
      ]
    },
    {
      "cell_type": "markdown",
      "metadata": {
        "id": "kjUkHYVnipEo"
      },
      "source": [
        "- Añadiendo una Función de Activación\n",
        "- Elegimos preservar la dimensionalidad de las representaciones de características y aplicar la función de activación ReLU."
      ]
    },
    {
      "cell_type": "code",
      "execution_count": 16,
      "metadata": {
        "colab": {
          "base_uri": "https://localhost:8080/"
        },
        "id": "P5mFbg92ipEo",
        "outputId": "b70d9ab6-c6ae-415c-aa65-5a5e17fd36df"
      },
      "outputs": [
        {
          "data": {
            "text/plain": [
              "matrix([[1., 0.],\n",
              "        [4., 0.],\n",
              "        [2., 0.],\n",
              "        [5., 0.]])"
            ]
          },
          "execution_count": 16,
          "metadata": {},
          "output_type": "execute_result"
        }
      ],
      "source": [
        "W = np.matrix([[1, -1], [-1, 1]])\n",
        "relu(D_hat**-1 * A_hat * X * W)"
      ]
    },
    {
      "cell_type": "markdown",
      "metadata": {
        "id": "X10OAaBvipEo"
      },
      "source": [
        "> Hecho: ¡Una capa oculta completa con matriz de adyacencia, características de entrada, pesos y función de activación!"
      ]
    },
    {
      "cell_type": "markdown",
      "metadata": {
        "id": "C8sC0rH8ipEo"
      },
      "source": [
        "## Zachary’s Karate Club\n",
        "### Construyendo la GCN"
      ]
    },
    {
      "cell_type": "code",
      "execution_count": 17,
      "metadata": {
        "colab": {
          "base_uri": "https://localhost:8080/"
        },
        "id": "BRDDxx8UipEp",
        "outputId": "025f3ac7-62df-4464-805b-f26e7e4d7b75"
      },
      "outputs": [
        {
          "data": {
            "text/plain": [
              "14.166666666666664"
            ]
          },
          "execution_count": 17,
          "metadata": {},
          "output_type": "execute_result"
        }
      ],
      "source": [
        "import networkx as nx\n",
        "\n",
        "zkc = nx.karate_club_graph()\n",
        "order = sorted(list(zkc.nodes()))\n",
        "\n",
        "bb = nx.edge_betweenness_centrality(zkc, normalized=False)\n",
        "nx.set_edge_attributes(zkc, bb, \"weight\")\n",
        "zkc[0][1][\"weight\"]"
      ]
    },
    {
      "cell_type": "code",
      "execution_count": 18,
      "metadata": {
        "colab": {
          "base_uri": "https://localhost:8080/"
        },
        "id": "aV5k_lpripEp",
        "outputId": "e1d5eec0-6881-41ce-d036-54848aad04f0"
      },
      "outputs": [
        {
          "data": {
            "text/plain": [
              "matrix([[17.,  0.,  0., ...,  0.,  0.,  0.],\n",
              "        [ 0., 10.,  0., ...,  0.,  0.,  0.],\n",
              "        [ 0.,  0., 11., ...,  0.,  0.,  0.],\n",
              "        ...,\n",
              "        [ 0.,  0.,  0., ...,  7.,  0.,  0.],\n",
              "        [ 0.,  0.,  0., ...,  0., 13.,  0.],\n",
              "        [ 0.,  0.,  0., ...,  0.,  0., 18.]])"
            ]
          },
          "execution_count": 18,
          "metadata": {},
          "output_type": "execute_result"
        }
      ],
      "source": [
        "A = nx.to_numpy_array(zkc, nodelist=order, weight='None')\n",
        "I = np.eye(zkc.number_of_nodes())\n",
        "A_hat = A + I\n",
        "D_hat = np.array(np.sum(A_hat, axis=0))\n",
        "D_hat = np.matrix(np.diag(D_hat))\n",
        "D_hat"
      ]
    },
    {
      "cell_type": "code",
      "execution_count": 19,
      "metadata": {
        "id": "P1oLUbuwipEp"
      },
      "outputs": [],
      "source": [
        "W_1 = np.random.normal(\n",
        "    loc=0, scale=1, size=(zkc.number_of_nodes(), 4))\n",
        "W_2 = np.random.normal(\n",
        "    loc=0, size=(W_1.shape[1], 2))"
      ]
    },
    {
      "cell_type": "code",
      "execution_count": 20,
      "metadata": {
        "colab": {
          "base_uri": "https://localhost:8080/"
        },
        "id": "EQ1d9wjlipEp",
        "outputId": "3c421a19-9034-4444-f6a2-31418a97eae6"
      },
      "outputs": [
        {
          "data": {
            "text/plain": [
              "matrix([[0.66127054, 0.38632506],\n",
              "        [0.48363299, 0.78096927],\n",
              "        [0.152581  , 0.8012636 ],\n",
              "        [0.50353757, 0.69345161],\n",
              "        [0.65266493, 0.        ],\n",
              "        [0.66241193, 0.        ],\n",
              "        [0.56250954, 0.        ],\n",
              "        [0.39135945, 0.72228937],\n",
              "        [0.        , 0.5457062 ],\n",
              "        [0.        , 0.858378  ],\n",
              "        [0.6494017 , 0.0829738 ],\n",
              "        [1.25374266, 0.        ],\n",
              "        [0.61940232, 0.40629178],\n",
              "        [0.23759634, 0.66645798],\n",
              "        [0.        , 0.27420318],\n",
              "        [0.        , 0.80615371],\n",
              "        [0.66544484, 0.        ],\n",
              "        [0.4711788 , 0.72475201],\n",
              "        [0.        , 0.26859104],\n",
              "        [0.26687689, 0.54896231],\n",
              "        [0.        , 0.25865556],\n",
              "        [0.5170869 , 0.6937139 ],\n",
              "        [0.        , 0.41013029],\n",
              "        [0.16753423, 0.84337645],\n",
              "        [0.29793349, 1.14453626],\n",
              "        [0.17632616, 1.04502296],\n",
              "        [0.03192433, 0.21301113],\n",
              "        [0.14511564, 0.78236862],\n",
              "        [0.        , 0.49713015],\n",
              "        [0.        , 0.35553166],\n",
              "        [0.        , 0.66563302],\n",
              "        [0.        , 0.73132585],\n",
              "        [0.        , 0.52201313],\n",
              "        [0.        , 0.60701794]])"
            ]
          },
          "execution_count": 20,
          "metadata": {},
          "output_type": "execute_result"
        }
      ],
      "source": [
        "def gcn_layer(A_hat, D_hat, X, W):\n",
        "    return relu(D_hat**-1 * A_hat * X * W)\n",
        "H_1 = gcn_layer(A_hat, D_hat, I, W_1)\n",
        "H_2 = gcn_layer(A_hat, D_hat, H_1, W_2)\n",
        "output = H_2\n",
        "output"
      ]
    },
    {
      "cell_type": "code",
      "execution_count": 21,
      "metadata": {
        "colab": {
          "base_uri": "https://localhost:8080/"
        },
        "id": "gRCWlk0WipEp",
        "outputId": "6ce4e0d3-8490-40a8-b401-2d41cb635bba"
      },
      "outputs": [
        {
          "data": {
            "text/plain": [
              "{0: array([0.66127054, 0.38632506]),\n",
              " 1: array([0.48363299, 0.78096927]),\n",
              " 2: array([0.152581 , 0.8012636]),\n",
              " 3: array([0.50353757, 0.69345161]),\n",
              " 4: array([0.65266493, 0.        ]),\n",
              " 5: array([0.66241193, 0.        ]),\n",
              " 6: array([0.56250954, 0.        ]),\n",
              " 7: array([0.39135945, 0.72228937]),\n",
              " 8: array([0.       , 0.5457062]),\n",
              " 9: array([0.      , 0.858378]),\n",
              " 10: array([0.6494017, 0.0829738]),\n",
              " 11: array([1.25374266, 0.        ]),\n",
              " 12: array([0.61940232, 0.40629178]),\n",
              " 13: array([0.23759634, 0.66645798]),\n",
              " 14: array([0.        , 0.27420318]),\n",
              " 15: array([0.        , 0.80615371]),\n",
              " 16: array([0.66544484, 0.        ]),\n",
              " 17: array([0.4711788 , 0.72475201]),\n",
              " 18: array([0.        , 0.26859104]),\n",
              " 19: array([0.26687689, 0.54896231]),\n",
              " 20: array([0.        , 0.25865556]),\n",
              " 21: array([0.5170869, 0.6937139]),\n",
              " 22: array([0.        , 0.41013029]),\n",
              " 23: array([0.16753423, 0.84337645]),\n",
              " 24: array([0.29793349, 1.14453626]),\n",
              " 25: array([0.17632616, 1.04502296]),\n",
              " 26: array([0.03192433, 0.21301113]),\n",
              " 27: array([0.14511564, 0.78236862]),\n",
              " 28: array([0.        , 0.49713015]),\n",
              " 29: array([0.        , 0.35553166]),\n",
              " 30: array([0.        , 0.66563302]),\n",
              " 31: array([0.        , 0.73132585]),\n",
              " 32: array([0.        , 0.52201313]),\n",
              " 33: array([0.        , 0.60701794])}"
            ]
          },
          "execution_count": 21,
          "metadata": {},
          "output_type": "execute_result"
        }
      ],
      "source": [
        "feature_representations = {\n",
        "    node: np.array(output)[node]\n",
        "    for node in zkc.nodes()}\n",
        "feature_representations"
      ]
    },
    {
      "cell_type": "code",
      "execution_count": 22,
      "metadata": {
        "colab": {
          "base_uri": "https://localhost:8080/",
          "height": 1000
        },
        "id": "OrScWA3KipEp",
        "outputId": "2bf66651-8195-4140-ff7c-44c6c49eadb6"
      },
      "outputs": [
        {
          "data": {
            "text/html": [
              "<div>\n",
              "<style scoped>\n",
              "    .dataframe tbody tr th:only-of-type {\n",
              "        vertical-align: middle;\n",
              "    }\n",
              "\n",
              "    .dataframe tbody tr th {\n",
              "        vertical-align: top;\n",
              "    }\n",
              "\n",
              "    .dataframe thead th {\n",
              "        text-align: right;\n",
              "    }\n",
              "</style>\n",
              "<table border=\"1\" class=\"dataframe\">\n",
              "  <thead>\n",
              "    <tr style=\"text-align: right;\">\n",
              "      <th></th>\n",
              "      <th>x</th>\n",
              "      <th>y</th>\n",
              "      <th>id</th>\n",
              "      <th>z</th>\n",
              "    </tr>\n",
              "  </thead>\n",
              "  <tbody>\n",
              "    <tr>\n",
              "      <th>0</th>\n",
              "      <td>0.661271</td>\n",
              "      <td>0.386325</td>\n",
              "      <td>0</td>\n",
              "      <td>Mr. Hi</td>\n",
              "    </tr>\n",
              "    <tr>\n",
              "      <th>1</th>\n",
              "      <td>0.483633</td>\n",
              "      <td>0.780969</td>\n",
              "      <td>1</td>\n",
              "      <td>Mr. Hi</td>\n",
              "    </tr>\n",
              "    <tr>\n",
              "      <th>2</th>\n",
              "      <td>0.152581</td>\n",
              "      <td>0.801264</td>\n",
              "      <td>2</td>\n",
              "      <td>Mr. Hi</td>\n",
              "    </tr>\n",
              "    <tr>\n",
              "      <th>3</th>\n",
              "      <td>0.503538</td>\n",
              "      <td>0.693452</td>\n",
              "      <td>3</td>\n",
              "      <td>Mr. Hi</td>\n",
              "    </tr>\n",
              "    <tr>\n",
              "      <th>4</th>\n",
              "      <td>0.652665</td>\n",
              "      <td>0.000000</td>\n",
              "      <td>4</td>\n",
              "      <td>Mr. Hi</td>\n",
              "    </tr>\n",
              "    <tr>\n",
              "      <th>5</th>\n",
              "      <td>0.662412</td>\n",
              "      <td>0.000000</td>\n",
              "      <td>5</td>\n",
              "      <td>Mr. Hi</td>\n",
              "    </tr>\n",
              "    <tr>\n",
              "      <th>6</th>\n",
              "      <td>0.562510</td>\n",
              "      <td>0.000000</td>\n",
              "      <td>6</td>\n",
              "      <td>Mr. Hi</td>\n",
              "    </tr>\n",
              "    <tr>\n",
              "      <th>7</th>\n",
              "      <td>0.391359</td>\n",
              "      <td>0.722289</td>\n",
              "      <td>7</td>\n",
              "      <td>Mr. Hi</td>\n",
              "    </tr>\n",
              "    <tr>\n",
              "      <th>8</th>\n",
              "      <td>0.000000</td>\n",
              "      <td>0.545706</td>\n",
              "      <td>8</td>\n",
              "      <td>Mr. Hi</td>\n",
              "    </tr>\n",
              "    <tr>\n",
              "      <th>9</th>\n",
              "      <td>0.000000</td>\n",
              "      <td>0.858378</td>\n",
              "      <td>9</td>\n",
              "      <td>Officer</td>\n",
              "    </tr>\n",
              "    <tr>\n",
              "      <th>10</th>\n",
              "      <td>0.649402</td>\n",
              "      <td>0.082974</td>\n",
              "      <td>10</td>\n",
              "      <td>Mr. Hi</td>\n",
              "    </tr>\n",
              "    <tr>\n",
              "      <th>11</th>\n",
              "      <td>1.253743</td>\n",
              "      <td>0.000000</td>\n",
              "      <td>11</td>\n",
              "      <td>Mr. Hi</td>\n",
              "    </tr>\n",
              "    <tr>\n",
              "      <th>12</th>\n",
              "      <td>0.619402</td>\n",
              "      <td>0.406292</td>\n",
              "      <td>12</td>\n",
              "      <td>Mr. Hi</td>\n",
              "    </tr>\n",
              "    <tr>\n",
              "      <th>13</th>\n",
              "      <td>0.237596</td>\n",
              "      <td>0.666458</td>\n",
              "      <td>13</td>\n",
              "      <td>Mr. Hi</td>\n",
              "    </tr>\n",
              "    <tr>\n",
              "      <th>14</th>\n",
              "      <td>0.000000</td>\n",
              "      <td>0.274203</td>\n",
              "      <td>14</td>\n",
              "      <td>Officer</td>\n",
              "    </tr>\n",
              "    <tr>\n",
              "      <th>15</th>\n",
              "      <td>0.000000</td>\n",
              "      <td>0.806154</td>\n",
              "      <td>15</td>\n",
              "      <td>Officer</td>\n",
              "    </tr>\n",
              "    <tr>\n",
              "      <th>16</th>\n",
              "      <td>0.665445</td>\n",
              "      <td>0.000000</td>\n",
              "      <td>16</td>\n",
              "      <td>Mr. Hi</td>\n",
              "    </tr>\n",
              "    <tr>\n",
              "      <th>17</th>\n",
              "      <td>0.471179</td>\n",
              "      <td>0.724752</td>\n",
              "      <td>17</td>\n",
              "      <td>Mr. Hi</td>\n",
              "    </tr>\n",
              "    <tr>\n",
              "      <th>18</th>\n",
              "      <td>0.000000</td>\n",
              "      <td>0.268591</td>\n",
              "      <td>18</td>\n",
              "      <td>Officer</td>\n",
              "    </tr>\n",
              "    <tr>\n",
              "      <th>19</th>\n",
              "      <td>0.266877</td>\n",
              "      <td>0.548962</td>\n",
              "      <td>19</td>\n",
              "      <td>Mr. Hi</td>\n",
              "    </tr>\n",
              "    <tr>\n",
              "      <th>20</th>\n",
              "      <td>0.000000</td>\n",
              "      <td>0.258656</td>\n",
              "      <td>20</td>\n",
              "      <td>Officer</td>\n",
              "    </tr>\n",
              "    <tr>\n",
              "      <th>21</th>\n",
              "      <td>0.517087</td>\n",
              "      <td>0.693714</td>\n",
              "      <td>21</td>\n",
              "      <td>Mr. Hi</td>\n",
              "    </tr>\n",
              "    <tr>\n",
              "      <th>22</th>\n",
              "      <td>0.000000</td>\n",
              "      <td>0.410130</td>\n",
              "      <td>22</td>\n",
              "      <td>Officer</td>\n",
              "    </tr>\n",
              "    <tr>\n",
              "      <th>23</th>\n",
              "      <td>0.167534</td>\n",
              "      <td>0.843376</td>\n",
              "      <td>23</td>\n",
              "      <td>Officer</td>\n",
              "    </tr>\n",
              "    <tr>\n",
              "      <th>24</th>\n",
              "      <td>0.297933</td>\n",
              "      <td>1.144536</td>\n",
              "      <td>24</td>\n",
              "      <td>Officer</td>\n",
              "    </tr>\n",
              "    <tr>\n",
              "      <th>25</th>\n",
              "      <td>0.176326</td>\n",
              "      <td>1.045023</td>\n",
              "      <td>25</td>\n",
              "      <td>Officer</td>\n",
              "    </tr>\n",
              "    <tr>\n",
              "      <th>26</th>\n",
              "      <td>0.031924</td>\n",
              "      <td>0.213011</td>\n",
              "      <td>26</td>\n",
              "      <td>Officer</td>\n",
              "    </tr>\n",
              "    <tr>\n",
              "      <th>27</th>\n",
              "      <td>0.145116</td>\n",
              "      <td>0.782369</td>\n",
              "      <td>27</td>\n",
              "      <td>Officer</td>\n",
              "    </tr>\n",
              "    <tr>\n",
              "      <th>28</th>\n",
              "      <td>0.000000</td>\n",
              "      <td>0.497130</td>\n",
              "      <td>28</td>\n",
              "      <td>Officer</td>\n",
              "    </tr>\n",
              "    <tr>\n",
              "      <th>29</th>\n",
              "      <td>0.000000</td>\n",
              "      <td>0.355532</td>\n",
              "      <td>29</td>\n",
              "      <td>Officer</td>\n",
              "    </tr>\n",
              "    <tr>\n",
              "      <th>30</th>\n",
              "      <td>0.000000</td>\n",
              "      <td>0.665633</td>\n",
              "      <td>30</td>\n",
              "      <td>Officer</td>\n",
              "    </tr>\n",
              "    <tr>\n",
              "      <th>31</th>\n",
              "      <td>0.000000</td>\n",
              "      <td>0.731326</td>\n",
              "      <td>31</td>\n",
              "      <td>Officer</td>\n",
              "    </tr>\n",
              "    <tr>\n",
              "      <th>32</th>\n",
              "      <td>0.000000</td>\n",
              "      <td>0.522013</td>\n",
              "      <td>32</td>\n",
              "      <td>Officer</td>\n",
              "    </tr>\n",
              "    <tr>\n",
              "      <th>33</th>\n",
              "      <td>0.000000</td>\n",
              "      <td>0.607018</td>\n",
              "      <td>33</td>\n",
              "      <td>Officer</td>\n",
              "    </tr>\n",
              "  </tbody>\n",
              "</table>\n",
              "</div>"
            ],
            "text/plain": [
              "           x         y  id        z\n",
              "0   0.661271  0.386325   0   Mr. Hi\n",
              "1   0.483633  0.780969   1   Mr. Hi\n",
              "2   0.152581  0.801264   2   Mr. Hi\n",
              "3   0.503538  0.693452   3   Mr. Hi\n",
              "4   0.652665  0.000000   4   Mr. Hi\n",
              "5   0.662412  0.000000   5   Mr. Hi\n",
              "6   0.562510  0.000000   6   Mr. Hi\n",
              "7   0.391359  0.722289   7   Mr. Hi\n",
              "8   0.000000  0.545706   8   Mr. Hi\n",
              "9   0.000000  0.858378   9  Officer\n",
              "10  0.649402  0.082974  10   Mr. Hi\n",
              "11  1.253743  0.000000  11   Mr. Hi\n",
              "12  0.619402  0.406292  12   Mr. Hi\n",
              "13  0.237596  0.666458  13   Mr. Hi\n",
              "14  0.000000  0.274203  14  Officer\n",
              "15  0.000000  0.806154  15  Officer\n",
              "16  0.665445  0.000000  16   Mr. Hi\n",
              "17  0.471179  0.724752  17   Mr. Hi\n",
              "18  0.000000  0.268591  18  Officer\n",
              "19  0.266877  0.548962  19   Mr. Hi\n",
              "20  0.000000  0.258656  20  Officer\n",
              "21  0.517087  0.693714  21   Mr. Hi\n",
              "22  0.000000  0.410130  22  Officer\n",
              "23  0.167534  0.843376  23  Officer\n",
              "24  0.297933  1.144536  24  Officer\n",
              "25  0.176326  1.045023  25  Officer\n",
              "26  0.031924  0.213011  26  Officer\n",
              "27  0.145116  0.782369  27  Officer\n",
              "28  0.000000  0.497130  28  Officer\n",
              "29  0.000000  0.355532  29  Officer\n",
              "30  0.000000  0.665633  30  Officer\n",
              "31  0.000000  0.731326  31  Officer\n",
              "32  0.000000  0.522013  32  Officer\n",
              "33  0.000000  0.607018  33  Officer"
            ]
          },
          "execution_count": 22,
          "metadata": {},
          "output_type": "execute_result"
        }
      ],
      "source": [
        "import matplotlib.pyplot as plt\n",
        "import pandas as pd\n",
        "\n",
        "X = []\n",
        "Y = []\n",
        "C = []\n",
        "Id = []\n",
        "for item in feature_representations:\n",
        "    X.append(feature_representations[item][0])\n",
        "    Y.append(feature_representations[item][1])\n",
        "    C.append(zkc.nodes[item][\"club\"])\n",
        "    Id.append(item)\n",
        "\n",
        "\n",
        "#create DataFrame\n",
        "df = pd.DataFrame({'x': X,\n",
        "                   'y': Y,\n",
        "                   'id': Id,\n",
        "                   'z': C\n",
        "                   })\n",
        "\n",
        "df"
      ]
    },
    {
      "cell_type": "code",
      "execution_count": 23,
      "metadata": {
        "colab": {
          "base_uri": "https://localhost:8080/",
          "height": 448
        },
        "id": "__at-zSPipEp",
        "outputId": "dd322e3c-805f-46b7-91f5-44d9dacdd945"
      },
      "outputs": [
        {
          "data": {
            "text/plain": [
              "<matplotlib.legend.Legend at 0x210badeeb30>"
            ]
          },
          "execution_count": 23,
          "metadata": {},
          "output_type": "execute_result"
        },
        {
          "data": {
            "image/png": "[encoded data removed]",
            "text/plain": [
              "<Figure size 432x288 with 1 Axes>"
            ]
          },
          "metadata": {
            "needs_background": "light"
          },
          "output_type": "display_data"
        }
      ],
      "source": [
        "groups = df.groupby('z')\n",
        "for name, group in groups:\n",
        "    plt.plot(group.x, group.y, marker='o', linestyle='', markersize=12, label=name)\n",
        "    # plt.text(group.x, group.y, group.id)\n",
        "\n",
        "plt.legend()"
      ]
    }
  ],
  "metadata": {
    "colab": {
      "provenance": []
    },
    "kernelspec": {
      "display_name": ".venv39",
      "language": "python",
      "name": "python3"
    },
    "language_info": {
      "codemirror_mode": {
        "name": "ipython",
        "version": 3
      },
      "file_extension": ".py",
      "mimetype": "text/x-python",
      "name": "python",
      "nbconvert_exporter": "python",
      "pygments_lexer": "ipython3",
      "version": "3.9.0"
    },
    "orig_nbformat": 4
  },
  "nbformat": 4,
  "nbformat_minor": 0
}
